{
 "cells": [
  {
   "cell_type": "markdown",
   "id": "0ea22c4e",
   "metadata": {},
   "source": [
    "# Практическая работа №3\n",
    "## Подготовка форсинга для модели TEB по данным реанализа ERA5"
   ]
  },
  {
   "cell_type": "code",
   "execution_count": null,
   "id": "aa25ac7d",
   "metadata": {},
   "outputs": [],
   "source": [
    "import xarray as xr\n",
    "import numpy as np\n",
    "import os"
   ]
  },
  {
   "cell_type": "code",
   "execution_count": 68,
   "id": "114bfdd2-129e-4441-be02-e17c9656ddac",
   "metadata": {},
   "outputs": [],
   "source": [
    "in_path = r\"D:\\!Work\\Moscow\\! data\\ERA5_TEB_forcing\\2022.nc\"\n",
    "\n",
    "\n",
    "point_crd = [55.5, 37.5]\n",
    "\n",
    "ds = xr.open_dataset (in_path)\n",
    "ds4point = ds.sel(latitude = point_crd[0], longitude = point_crd[1])\n",
    "\n",
    "t  = ds4point['t2m']-273.15\n",
    "td = ds4point['d2m']-273.15\n",
    "p  = ds4point['sp']\n",
    "        \n",
    "E = 100 * 6.1*(10 ** (7.45*t  / (235+t)))\n",
    "e = 100 * 6.1*(10 ** (7.45*td / (235+td)))\n",
    "        \n",
    "ds4point['rh2m'] = 100 * (e / E)\n",
    "\n",
    "ds4point['Forc_TA']   = ds4point['t2m']\n",
    "ds4point['Forc_QA'] = 0.623 * e / (p - 0.377 * e);\n",
    "\n",
    "ds4point['Forc_WIND'] = np.sqrt (ds4point['u10']**2 + ds4point['v10']**2)\n",
    "ds4point['Forc_DIR']  = np.mod(180+(180/np.pi) * np.arctan2(ds4point['u10'], ds4point['v10']), 360)\n",
    "ds4point['Forc_DIR_SW'] = ds4point['fdir']/3600\n",
    "ds4point['Forc_SCA_SW'] = ds4point['ssrd']/3600-ds4point['fdir']/3600\n",
    "ds4point['Forc_LW'] = ds4point['strd']/3600\n",
    "ds4point['Forc_PS'] = ds4point['sp']\n",
    "\n",
    "is_rain = np.where(ds4point['ptype'] < 2)[0] \n",
    "is_snow = np.where(ds4point['ptype'] >= 2)[0] \n",
    "\n",
    "rain = np.zeros_like(ds4point['Forc_PS'])\n",
    "snow = np.zeros_like(ds4point['Forc_PS'])\n",
    "\n",
    "rain[is_rain] = ds4point['tp'][is_rain]*1000/3600\n",
    "snow[is_snow] = ds4point['tp'][is_snow]*1000/3600\n",
    "\n",
    "\n",
    "ds4point['Forc_RAIN'] = (ds4point['Forc_PS'].dims, rain)\n",
    "ds4point['Forc_SNOW'] = (ds4point['Forc_PS'].dims, snow)\n",
    "df4point = ds4point.to_dataframe()\n",
    "\n"
   ]
  },
  {
   "cell_type": "code",
   "execution_count": 70,
   "id": "0c7781db-0bbe-452a-96c2-091218b25489",
   "metadata": {},
   "outputs": [
    {
     "data": {
      "text/plain": [
       "<AxesSubplot:xlabel='time'>"
      ]
     },
     "execution_count": 70,
     "metadata": {},
     "output_type": "execute_result"
    },
    {
     "data": {
      "image/png": "[encoded data removed]",
      "text/plain": [
       "<Figure size 432x288 with 1 Axes>"
      ]
     },
     "metadata": {
      "needs_background": "light"
     },
     "output_type": "display_data"
    }
   ],
   "source": [
    "df4point['Forc_RAIN'].plot()"
   ]
  },
  {
   "cell_type": "code",
   "execution_count": 87,
   "id": "71853de3-143e-4a30-b81d-64da7219b3b6",
   "metadata": {},
   "outputs": [],
   "source": [
    "\n",
    "save_dir = 'TEB_forcing/'\n",
    "#if ~os.path.isdir (save_dir):\n",
    "#    os.mkdir(save_dir)\n",
    "for var in df4point.columns:\n",
    "    if 'Forc_' in var:\n",
    "        np.savetxt(save_dir + var + '.txt', df4point[var].to_numpy(), '%.5f')\n",
    "\n",
    "df4point.to_csv (save_dir + 'full_df.csv')\n",
    "    "
   ]
  },
  {
   "cell_type": "code",
   "execution_count": 84,
   "id": "14a6db38-7979-456f-a5b7-8ba1316be57e",
   "metadata": {},
   "outputs": [
    {
     "data": {
      "text/plain": [
       "True"
      ]
     },
     "execution_count": 84,
     "metadata": {},
     "output_type": "execute_result"
    }
   ],
   "source": []
  },
  {
   "cell_type": "code",
   "execution_count": null,
   "id": "e6fe33f1-cb0c-40cc-a304-a17a87dee98a",
   "metadata": {},
   "outputs": [],
   "source": []
  }
 ],
 "metadata": {
  "kernelspec": {
   "display_name": "Python 3 (ipykernel)",
   "language": "python",
   "name": "python3"
  },
  "language_info": {
   "codemirror_mode": {
    "name": "ipython",
    "version": 3
   },
   "file_extension": ".py",
   "mimetype": "text/x-python",
   "name": "python",
   "nbconvert_exporter": "python",
   "pygments_lexer": "ipython3",
   "version": "3.9.7"
  }
 },
 "nbformat": 4,
 "nbformat_minor": 5
}
