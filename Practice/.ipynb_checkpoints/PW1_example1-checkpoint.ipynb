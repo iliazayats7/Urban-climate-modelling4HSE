{
 "cells": [
  {
   "cell_type": "code",
   "execution_count": 89,
   "id": "b863c9ed-b7b1-4d70-bf17-5e757c3747d4",
   "metadata": {},
   "outputs": [],
   "source": [
    "import pandas as pd\n",
    "import re\n",
    "from matplotlib import pyplot as plt"
   ]
  },
  {
   "cell_type": "code",
   "execution_count": 99,
   "id": "ae8bcdca-f42a-4553-b183-dccda8844b6b",
   "metadata": {},
   "outputs": [],
   "source": [
    "def read_weaclim_html (path):\n",
    "    \n",
    "    file = open(path, 'r', encoding=\"utf-8\")\n",
    "    \n",
    "    while True:\n",
    "        line = file.readline()\n",
    "        \n",
    "        if '<meta name=\"description\" content=\"' in line:\n",
    "            display(line)\n",
    "            break\n",
    "        \n",
    "        if not line:\n",
    "            break\n",
    "            \n",
    "    file.close()\n",
    "            \n",
    "    year_str = re.search('за (.*) года', line).group(1).split()[1]\n",
    "    \n",
    "    df0 = pd.read_html(path)[0]     \n",
    "    df1 = pd.read_html(path)[1]\n",
    "\n",
    "    heads = df1.loc[0,:]\n",
    "    df1 = df1.loc[1:,:]\n",
    "    df1.columns = heads\n",
    "\n",
    "    df0 = df0.loc[1:,:]\n",
    "    time_str = df0.loc[:,1] + '.' + year_str + ' ' + df0.loc[:,0]\n",
    "    display(time_str[100:110])\n",
    "    time = pd.to_datetime (time_str, format = \"%d.%m.%Y %H\")\n",
    "    \n",
    "    df1['time'] = time\n",
    "    df1 = df1.set_index('time')\n",
    "    \n",
    "    return df1\n",
    "\n",
    "def read_rp5 (path)\n",
    "\n",
    "\n"
   ]
  },
  {
   "cell_type": "code",
   "execution_count": 101,
   "id": "fede2898-0e52-490e-960c-4b2020b6dcf8",
   "metadata": {},
   "outputs": [
    {
     "data": {
      "text/plain": [
       "'    <meta name=\"description\" content=\"Архив фактической погоды в Москве (Балчуг) (атмосферное давление, температура воздуха, влажность воздуха, направление и скорость ветра, атмосферные явления, осадки) за январь 2021 года.\">\\n'"
      ]
     },
     "metadata": {},
     "output_type": "display_data"
    },
    {
     "data": {
      "text/plain": [
       "101    13.01.2021 12\n",
       "102    13.01.2021 15\n",
       "103    13.01.2021 18\n",
       "104    13.01.2021 21\n",
       "105    14.01.2021 00\n",
       "106    14.01.2021 03\n",
       "107    14.01.2021 06\n",
       "108    14.01.2021 09\n",
       "109    14.01.2021 12\n",
       "110    14.01.2021 15\n",
       "dtype: object"
      ]
     },
     "metadata": {},
     "output_type": "display_data"
    },
    {
     "data": {
      "text/plain": [
       "<AxesSubplot:xlabel='time'>"
      ]
     },
     "execution_count": 101,
     "metadata": {},
     "output_type": "execute_result"
    },
    {
     "data": {
      "image/png": "[encoded data removed]",
      "text/plain": [
       "<Figure size 432x288 with 1 Axes>"
      ]
     },
     "metadata": {
      "needs_background": "light"
     },
     "output_type": "display_data"
    }
   ],
   "source": [
    "path = r'D:\\! Work\\!data\\! PIK archive\\Moscow\\raw\\27605\\27605_202101.html'\n",
    "\n",
    "df = read_weaclim_html (path)\n",
    "df['Т(С)'] = df['Т(С)'].astype(float)\n",
    "df['Т(С)'].plot()\n"
   ]
  },
  {
   "cell_type": "code",
   "execution_count": 96,
   "id": "e57a3a9c-0356-4425-aa7b-d85d7916b07d",
   "metadata": {},
   "outputs": [
    {
     "data": {
      "text/plain": [
       "DatetimeIndex(['2021-01-13 12:00:00', '2021-01-13 15:00:00',\n",
       "               '2021-01-13 18:00:00', '2021-01-13 21:00:00',\n",
       "               '2021-01-14 00:00:00', '2021-01-14 03:00:00',\n",
       "               '2021-01-14 06:00:00', '2021-01-14 09:00:00',\n",
       "               '2021-01-14 12:00:00', '2021-01-14 15:00:00'],\n",
       "              dtype='datetime64[ns]', name='time', freq=None)"
      ]
     },
     "execution_count": 96,
     "metadata": {},
     "output_type": "execute_result"
    }
   ],
   "source": [
    "df.index[100:110]"
   ]
  },
  {
   "cell_type": "code",
   "execution_count": 82,
   "id": "58911c88-7381-4b51-afe5-aaa4da70a106",
   "metadata": {},
   "outputs": [
    {
     "data": {
      "text/plain": [
       "str"
      ]
     },
     "execution_count": 82,
     "metadata": {},
     "output_type": "execute_result"
    }
   ],
   "source": []
  },
  {
   "cell_type": "code",
   "execution_count": null,
   "id": "73aae8bf-aad7-4b0d-82e1-bb4e06043105",
   "metadata": {},
   "outputs": [],
   "source": []
  }
 ],
 "metadata": {
  "kernelspec": {
   "display_name": "Python 3 (ipykernel)",
   "language": "python",
   "name": "python3"
  },
  "language_info": {
   "codemirror_mode": {
    "name": "ipython",
    "version": 3
   },
   "file_extension": ".py",
   "mimetype": "text/x-python",
   "name": "python",
   "nbconvert_exporter": "python",
   "pygments_lexer": "ipython3",
   "version": "3.9.7"
  }
 },
 "nbformat": 4,
 "nbformat_minor": 5
}
