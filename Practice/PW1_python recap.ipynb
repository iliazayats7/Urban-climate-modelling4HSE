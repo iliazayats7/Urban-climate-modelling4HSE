{
 "cells": [
  {
   "cell_type": "markdown",
   "id": "f17a8126-05fb-4c67-b443-6c6716aca122",
   "metadata": {},
   "source": [
    "# Python Recap "
   ]
  },
  {
   "cell_type": "markdown",
   "id": "67b94925-24af-4c5e-ba0b-1ab63fc8aba0",
   "metadata": {
    "tags": []
   },
   "source": [
    "## Примитивные типы данных"
   ]
  },
  {
   "cell_type": "markdown",
   "id": "37529832-acf3-4439-87d1-6fa5915427fd",
   "metadata": {
    "tags": []
   },
   "source": [
    "### Числовые типы"
   ]
  },
  {
   "cell_type": "code",
   "execution_count": 2,
   "id": "50290d07-1bb0-402a-9c03-11847f8f572f",
   "metadata": {},
   "outputs": [
    {
     "data": {
      "text/plain": [
       "int"
      ]
     },
     "execution_count": 2,
     "metadata": {},
     "output_type": "execute_result"
    }
   ],
   "source": [
    "a = 2222\n",
    "type(a)"
   ]
  },
  {
   "cell_type": "code",
   "execution_count": 26,
   "id": "63222f19-6c93-4e01-9c7f-87436c0d0afd",
   "metadata": {},
   "outputs": [
    {
     "data": {
      "text/plain": [
       "float"
      ]
     },
     "execution_count": 26,
     "metadata": {},
     "output_type": "execute_result"
    }
   ],
   "source": [
    "b = 3.14\n",
    "type(b)"
   ]
  },
  {
   "cell_type": "code",
   "execution_count": 7,
   "id": "bf435b41-9c56-4583-b4bf-3c5a98e5e696",
   "metadata": {},
   "outputs": [
    {
     "name": "stdout",
     "output_type": "stream",
     "text": [
      "3\n"
     ]
    }
   ],
   "source": [
    "c = int (b)\n",
    "print (c)"
   ]
  },
  {
   "cell_type": "markdown",
   "id": "e5b1bf1a-7efd-421a-bb6d-0c421e7b9430",
   "metadata": {
    "tags": []
   },
   "source": [
    "### Строки"
   ]
  },
  {
   "cell_type": "markdown",
   "id": "5a97df22-b9e3-46e8-9dd2-b8d99205adc5",
   "metadata": {},
   "source": [
    "s1 = 'aaaaa'\n",
    "s2 = \"bbbbb\"\n",
    "s3 = \\\n",
    "\"\"\"ccccc\\\n",
    "   eeeeee\n",
    "   fffffff\n",
    "\"\"\"\n",
    "s4 = s1 + s2 + s3\n",
    "print (s4)\n",
    "\n",
    "s3[3]\n",
    "#s3[3] = 'd' #Строки не изменяемые"
   ]
  },
  {
   "cell_type": "code",
   "execution_count": 32,
   "id": "f6e4714a-c556-48b8-861f-7f4be8eac6bb",
   "metadata": {},
   "outputs": [
    {
     "name": "stdout",
     "output_type": "stream",
     "text": [
      "pi = 3.14\n",
      "9.14\n"
     ]
    }
   ],
   "source": [
    "s5 = str (b)\n",
    "print ('pi = ' + s5)\n",
    "print (6 + float (s5))"
   ]
  },
  {
   "cell_type": "markdown",
   "id": "518e8a35-0c7f-4e3c-ba97-bf36248f6372",
   "metadata": {},
   "source": [
    "### Форматирование строк"
   ]
  },
  {
   "cell_type": "code",
   "execution_count": 37,
   "id": "6117197f-440e-4b12-a180-2731bbdd5100",
   "metadata": {},
   "outputs": [
    {
     "name": "stdout",
     "output_type": "stream",
     "text": [
      "Нет данных для станции Балчуг (id 27605)\n"
     ]
    }
   ],
   "source": [
    "s = 'Нет данных для станции %s (id %d)'\n",
    "\n",
    "print (s % ('Балчуг', 27605))"
   ]
  },
  {
   "cell_type": "markdown",
   "id": "deef44f5-83e8-4b21-9503-dc293e31ef8b",
   "metadata": {},
   "source": [
    "### Все (!!!) переменные являются объектами своего класса"
   ]
  },
  {
   "cell_type": "code",
   "execution_count": 115,
   "id": "8d5f5aac-de8b-40ec-9471-7276866c8f96",
   "metadata": {},
   "outputs": [
    {
     "data": {
      "text/plain": [
       "['__abs__',\n",
       " '__add__',\n",
       " '__and__',\n",
       " '__bool__',\n",
       " '__ceil__',\n",
       " '__class__',\n",
       " '__delattr__',\n",
       " '__dir__',\n",
       " '__divmod__',\n",
       " '__doc__',\n",
       " '__eq__',\n",
       " '__float__',\n",
       " '__floor__',\n",
       " '__floordiv__',\n",
       " '__format__',\n",
       " '__ge__',\n",
       " '__getattribute__',\n",
       " '__getnewargs__',\n",
       " '__gt__',\n",
       " '__hash__',\n",
       " '__index__',\n",
       " '__init__',\n",
       " '__init_subclass__',\n",
       " '__int__',\n",
       " '__invert__',\n",
       " '__le__',\n",
       " '__lshift__',\n",
       " '__lt__',\n",
       " '__mod__',\n",
       " '__mul__',\n",
       " '__ne__',\n",
       " '__neg__',\n",
       " '__new__',\n",
       " '__or__',\n",
       " '__pos__',\n",
       " '__pow__',\n",
       " '__radd__',\n",
       " '__rand__',\n",
       " '__rdivmod__',\n",
       " '__reduce__',\n",
       " '__reduce_ex__',\n",
       " '__repr__',\n",
       " '__rfloordiv__',\n",
       " '__rlshift__',\n",
       " '__rmod__',\n",
       " '__rmul__',\n",
       " '__ror__',\n",
       " '__round__',\n",
       " '__rpow__',\n",
       " '__rrshift__',\n",
       " '__rshift__',\n",
       " '__rsub__',\n",
       " '__rtruediv__',\n",
       " '__rxor__',\n",
       " '__setattr__',\n",
       " '__sizeof__',\n",
       " '__str__',\n",
       " '__sub__',\n",
       " '__subclasshook__',\n",
       " '__truediv__',\n",
       " '__trunc__',\n",
       " '__xor__',\n",
       " 'as_integer_ratio',\n",
       " 'bit_length',\n",
       " 'conjugate',\n",
       " 'denominator',\n",
       " 'from_bytes',\n",
       " 'imag',\n",
       " 'numerator',\n",
       " 'real',\n",
       " 'to_bytes']"
      ]
     },
     "metadata": {},
     "output_type": "display_data"
    },
    {
     "data": {
      "text/plain": [
       "28"
      ]
     },
     "metadata": {},
     "output_type": "display_data"
    },
    {
     "data": {
      "text/plain": [
       "24"
      ]
     },
     "metadata": {},
     "output_type": "display_data"
    },
    {
     "data": {
      "text/plain": [
       "['__add__',\n",
       " '__class__',\n",
       " '__contains__',\n",
       " '__delattr__',\n",
       " '__dir__',\n",
       " '__doc__',\n",
       " '__eq__',\n",
       " '__format__',\n",
       " '__ge__',\n",
       " '__getattribute__',\n",
       " '__getitem__',\n",
       " '__getnewargs__',\n",
       " '__gt__',\n",
       " '__hash__',\n",
       " '__init__',\n",
       " '__init_subclass__',\n",
       " '__iter__',\n",
       " '__le__',\n",
       " '__len__',\n",
       " '__lt__',\n",
       " '__mod__',\n",
       " '__mul__',\n",
       " '__ne__',\n",
       " '__new__',\n",
       " '__reduce__',\n",
       " '__reduce_ex__',\n",
       " '__repr__',\n",
       " '__rmod__',\n",
       " '__rmul__',\n",
       " '__setattr__',\n",
       " '__sizeof__',\n",
       " '__str__',\n",
       " '__subclasshook__',\n",
       " 'capitalize',\n",
       " 'casefold',\n",
       " 'center',\n",
       " 'count',\n",
       " 'encode',\n",
       " 'endswith',\n",
       " 'expandtabs',\n",
       " 'find',\n",
       " 'format',\n",
       " 'format_map',\n",
       " 'index',\n",
       " 'isalnum',\n",
       " 'isalpha',\n",
       " 'isascii',\n",
       " 'isdecimal',\n",
       " 'isdigit',\n",
       " 'isidentifier',\n",
       " 'islower',\n",
       " 'isnumeric',\n",
       " 'isprintable',\n",
       " 'isspace',\n",
       " 'istitle',\n",
       " 'isupper',\n",
       " 'join',\n",
       " 'ljust',\n",
       " 'lower',\n",
       " 'lstrip',\n",
       " 'maketrans',\n",
       " 'partition',\n",
       " 'removeprefix',\n",
       " 'removesuffix',\n",
       " 'replace',\n",
       " 'rfind',\n",
       " 'rindex',\n",
       " 'rjust',\n",
       " 'rpartition',\n",
       " 'rsplit',\n",
       " 'rstrip',\n",
       " 'split',\n",
       " 'splitlines',\n",
       " 'startswith',\n",
       " 'strip',\n",
       " 'swapcase',\n",
       " 'title',\n",
       " 'translate',\n",
       " 'upper',\n",
       " 'zfill']"
      ]
     },
     "metadata": {},
     "output_type": "display_data"
    },
    {
     "data": {
      "text/plain": [
       "'Paris 12345'"
      ]
     },
     "metadata": {},
     "output_type": "display_data"
    }
   ],
   "source": [
    "test_int = 2222\n",
    "display(dir(test_int))\n",
    "display(test_int.__sizeof__())\n",
    "\n",
    "test_float = 3.1434252452345234523452\n",
    "display(test_float.__sizeof__())\n",
    "\n",
    "\n",
    "test_str = 'Moscow 12345'\n",
    "display(dir(test_str))\n",
    "display(test_str.replace ('Moscow', 'Paris'))"
   ]
  },
  {
   "cell_type": "markdown",
   "id": "bf29e03d-6aa8-49ff-8795-664c4dadff2a",
   "metadata": {},
   "source": [
    "## Структуры данных (контейнеры)"
   ]
  },
  {
   "cell_type": "markdown",
   "id": "2edf9fdc-132f-4f0d-bdd0-706085ea5331",
   "metadata": {
    "tags": []
   },
   "source": [
    "### Кортеж (tuple)\n",
    "**Неизменяемая** упорядоченная коллекция  (последовательность) элементов"
   ]
  },
  {
   "cell_type": "code",
   "execution_count": 48,
   "id": "ef0cfa3d-d5ea-4504-9990-2f34240baff9",
   "metadata": {},
   "outputs": [
    {
     "name": "stdout",
     "output_type": "stream",
     "text": [
      "1\n",
      "aaaa5\n"
     ]
    },
    {
     "ename": "TypeError",
     "evalue": "'tuple' object does not support item assignment",
     "output_type": "error",
     "traceback": [
      "\u001b[1;31m---------------------------------------------------------------------------\u001b[0m",
      "\u001b[1;31mTypeError\u001b[0m                                 Traceback (most recent call last)",
      "\u001b[1;32m~\\AppData\\Local\\Temp/ipykernel_22104/4209401562.py\u001b[0m in \u001b[0;36m<module>\u001b[1;34m\u001b[0m\n\u001b[0;32m      4\u001b[0m \u001b[1;33m\u001b[0m\u001b[0m\n\u001b[0;32m      5\u001b[0m \u001b[0mtup2\u001b[0m \u001b[1;33m=\u001b[0m \u001b[0mtup\u001b[0m \u001b[1;33m+\u001b[0m \u001b[1;33m(\u001b[0m\u001b[1;34m'bbb6'\u001b[0m\u001b[1;33m,\u001b[0m \u001b[1;34m'ccc7'\u001b[0m\u001b[1;33m)\u001b[0m\u001b[1;33m\u001b[0m\u001b[1;33m\u001b[0m\u001b[0m\n\u001b[1;32m----> 6\u001b[1;33m \u001b[0mtup\u001b[0m\u001b[1;33m[\u001b[0m\u001b[1;36m0\u001b[0m\u001b[1;33m]\u001b[0m \u001b[1;33m=\u001b[0m \u001b[1;36m10\u001b[0m\u001b[1;33m\u001b[0m\u001b[1;33m\u001b[0m\u001b[0m\n\u001b[0m",
      "\u001b[1;31mTypeError\u001b[0m: 'tuple' object does not support item assignment"
     ]
    }
   ],
   "source": [
    "tup = (1, 2, 4, 'aaaa5')\n",
    "print (tup [0])\n",
    "print (tup [-1]) #Пример удобной индексации\n",
    "\n",
    "tup2 = tup + ('bbb6', 'ccc7')\n",
    "tup[0] = 10"
   ]
  },
  {
   "cell_type": "markdown",
   "id": "4708ee0f-e63b-43e3-8974-90029a1c9df9",
   "metadata": {},
   "source": [
    "### Распаковка кортежей"
   ]
  },
  {
   "cell_type": "code",
   "execution_count": 62,
   "id": "e80c1376-2d2b-42f3-a62e-a01f3f23b1be",
   "metadata": {},
   "outputs": [
    {
     "name": "stdout",
     "output_type": "stream",
     "text": [
      "('a', 'b', 'c')\n",
      "a\n",
      "c\n",
      "('a', 'b')\n"
     ]
    }
   ],
   "source": [
    "tup3 = 'a', 'b', 'c'\n",
    "print (tup3)\n",
    "a, b, c = tup3\n",
    "print (a)\n",
    "b,c = c,b\n",
    "print (b)\n"
   ]
  },
  {
   "cell_type": "markdown",
   "id": "754b4615-bc48-47cc-a263-a44bff7bd8bd",
   "metadata": {},
   "source": [
    "### Список [list]\n",
    "**Изменяемая** упорядоченная коллеция (последовательность) элементов\n"
   ]
  },
  {
   "cell_type": "code",
   "execution_count": 57,
   "id": "50831ecf-0437-43b2-828a-8d9b99439ff0",
   "metadata": {},
   "outputs": [
    {
     "name": "stdout",
     "output_type": "stream",
     "text": [
      "[9, 8, 2, 4, 'aaaa5', 'bbbb6']\n"
     ]
    }
   ],
   "source": [
    "lst = [1, 2, 4, 'aaaa5']\n",
    "lst.append('bbbb6')\n",
    "lst[0]=9\n",
    "lst.insert(1,8)\n",
    "print (lst)"
   ]
  },
  {
   "cell_type": "code",
   "execution_count": 67,
   "id": "1b39afb5-4545-4633-94fc-cd94babbc96c",
   "metadata": {},
   "outputs": [
    {
     "name": "stdout",
     "output_type": "stream",
     "text": [
      "[0, 1, 2, 3, 4, 5, 6, 7, 8, 9]\n",
      "[2, 3, 4]\n",
      "[5, 6, 7, 8, 9]\n",
      "[9, 8, 7, 6, 5, 4, 3, 2, 1, 0]\n"
     ]
    }
   ],
   "source": [
    "lst1 = list(range(0,10)) #range - итератор\n",
    "print(lst1)\n",
    "print(lst1[2:5])\n",
    "print(lst1[5:])\n",
    "print(lst1[::-1])"
   ]
  },
  {
   "cell_type": "markdown",
   "id": "0748ad2a-7131-459e-adec-537421698d5c",
   "metadata": {},
   "source": [
    "## Операторы для работы с последовательностями"
   ]
  },
  {
   "cell_type": "code",
   "execution_count": 77,
   "id": "4dddbff6-0bb5-42ee-a8f4-34dabdc88ed9",
   "metadata": {},
   "outputs": [
    {
     "name": "stdout",
     "output_type": "stream",
     "text": [
      "Moscow: i = 0\n",
      "Paris: i = 1\n",
      "London: i = 2\n"
     ]
    }
   ],
   "source": [
    "# удобный инструмент для счетчика цикла\n",
    "cities = ['Moscow', 'Paris', 'London']\n",
    "for i, cur_city in enumerate (cities):\n",
    "    print ('%s: i = %d'%(cur_city, i))\n",
    "    "
   ]
  },
  {
   "cell_type": "code",
   "execution_count": 78,
   "id": "99de7660-367f-4302-b494-1f32fab3662c",
   "metadata": {},
   "outputs": [
    {
     "name": "stdout",
     "output_type": "stream",
     "text": [
      "Moscow: id = 27605\n",
      "Paris: id = 33424\n",
      "London: id = 10345\n"
     ]
    }
   ],
   "source": [
    "# одновременный обход нескольких последовательностей\n",
    "ids = [27605, 33424, 10345]\n",
    "\n",
    "for cur_id, cur_city in zip (ids, cities):\n",
    "    print ('%s: id = %d'%(cur_city, cur_id))"
   ]
  },
  {
   "cell_type": "markdown",
   "id": "cb773101-ecf2-4eb7-92f9-a148dafc34c7",
   "metadata": {
    "tags": []
   },
   "source": [
    "### Множество {set}\n",
    "\n",
    "Неупорядоченная коллекция **уникальных** элементов"
   ]
  },
  {
   "cell_type": "code",
   "execution_count": 80,
   "id": "ed363587-44c5-4a73-9244-7ac15cb0c35e",
   "metadata": {},
   "outputs": [
    {
     "name": "stdout",
     "output_type": "stream",
     "text": [
      "{1, 4, 5, 6, 'aaa'}\n"
     ]
    },
    {
     "ename": "TypeError",
     "evalue": "'set' object is not subscriptable",
     "output_type": "error",
     "traceback": [
      "\u001b[1;31m---------------------------------------------------------------------------\u001b[0m",
      "\u001b[1;31mTypeError\u001b[0m                                 Traceback (most recent call last)",
      "\u001b[1;32m~\\AppData\\Local\\Temp/ipykernel_22104/404879489.py\u001b[0m in \u001b[0;36m<module>\u001b[1;34m\u001b[0m\n\u001b[0;32m      3\u001b[0m \u001b[1;33m\u001b[0m\u001b[0m\n\u001b[0;32m      4\u001b[0m \u001b[0mprint\u001b[0m \u001b[1;33m(\u001b[0m\u001b[0mset1\u001b[0m\u001b[1;33m)\u001b[0m\u001b[1;33m\u001b[0m\u001b[1;33m\u001b[0m\u001b[0m\n\u001b[1;32m----> 5\u001b[1;33m \u001b[0mset1\u001b[0m\u001b[1;33m[\u001b[0m\u001b[1;36m0\u001b[0m\u001b[1;33m]\u001b[0m\u001b[1;33m\u001b[0m\u001b[1;33m\u001b[0m\u001b[0m\n\u001b[0m",
      "\u001b[1;31mTypeError\u001b[0m: 'set' object is not subscriptable"
     ]
    }
   ],
   "source": [
    "set1 = {1, 1, 1, 4, 5, 6, 6}\n",
    "set1.add ('aaa')\n",
    "\n",
    "print (set1)\n",
    "set1[0]"
   ]
  },
  {
   "cell_type": "markdown",
   "id": "2f9e530b-98d6-4b4d-a305-e77623f51535",
   "metadata": {},
   "source": [
    "## Словарь {dict}\n",
    "Неупорядоченная коллекция элементов с доступом по ключу.\n",
    "Ключами должны быть скалярные типы (int, float, str) или кортежи. "
   ]
  },
  {
   "cell_type": "code",
   "execution_count": 85,
   "id": "2e9ea9e1-36cd-451a-8ac1-fec56e69815e",
   "metadata": {},
   "outputs": [
    {
     "name": "stdout",
     "output_type": "stream",
     "text": [
      "{'Moscow': 27605, 'Paris': 33424, 'London': 33424, 'NYC': 55345}\n",
      "0. Moscow: id = 27605\n",
      "1. Paris: id = 33424\n",
      "2. London: id = 33424\n",
      "3. NYC: id = 55345\n"
     ]
    }
   ],
   "source": [
    "dict1 = {'Moscow':27605, 'Paris': 33424, 'London': 33424}\n",
    "dict1 ['NYC'] = 55345\n",
    "print(dict1)\n",
    "\n",
    "for i, key in enumerate (dict1.keys()):\n",
    "    print ('%d. %s: id = %d'%(i, key, dict1[key]))"
   ]
  },
  {
   "cell_type": "markdown",
   "id": "45ea4597-45a6-4533-8151-49c95982159e",
   "metadata": {},
   "source": [
    "## Операции над коллекциями\n",
    "Списковое/словарное/множественное включение"
   ]
  },
  {
   "cell_type": "code",
   "execution_count": 93,
   "id": "fd30b850-25ef-4f90-8993-49a4474435ca",
   "metadata": {},
   "outputs": [
    {
     "name": "stdout",
     "output_type": "stream",
     "text": [
      "['MOSCOW', 'PARIS', 'LONDON']\n",
      "{'MOSCOW': 27605, 'PARIS': 33424, 'LONDON': 33424}\n"
     ]
    }
   ],
   "source": [
    "cities_upper = [x.upper() for x in cities]\n",
    "print (cities_upper)\n",
    "\n",
    "cities_upper_dict = {x.upper(): dict1[x] for x in cities}\n",
    "print (cities_upper_dict)"
   ]
  },
  {
   "cell_type": "markdown",
   "id": "da15e1c0-5cf8-461a-a5bf-f8c4b5103788",
   "metadata": {},
   "source": [
    "## Нюасны с копированием переменных"
   ]
  },
  {
   "cell_type": "code",
   "execution_count": 104,
   "id": "fd555c5d-2a5f-4e3d-8c3c-fc8795f41e0d",
   "metadata": {},
   "outputs": [
    {
     "data": {
      "text/plain": [
       "\"cities_new1:['Moscow', 'Perm', 'Saratov', 'Paris']\""
      ]
     },
     "metadata": {},
     "output_type": "display_data"
    },
    {
     "data": {
      "text/plain": [
       "\"cities_new2:['Moscow', 'Perm', 'Saratov', 'Paris']\""
      ]
     },
     "metadata": {},
     "output_type": "display_data"
    },
    {
     "data": {
      "text/plain": [
       "\"cities_new2:['Moscow', 'Perm', 'Saratov', 'Paris']\""
      ]
     },
     "metadata": {},
     "output_type": "display_data"
    },
    {
     "data": {
      "text/plain": [
       "\"cities_new3:['Minsk', 'Perm', 'Saratov', 'Paris']\""
      ]
     },
     "metadata": {},
     "output_type": "display_data"
    },
    {
     "data": {
      "text/plain": [
       "\"cities_new3:['Minsk', 'Perm', 'Saratov', 'Paris', 'Нью-Васюки']\""
      ]
     },
     "metadata": {},
     "output_type": "display_data"
    },
    {
     "data": {
      "text/plain": [
       "\"cities_new4:['MINSK', 'PERM', 'SARATOV', 'PARIS', 'НЬЮ-ВАСЮКИ']\""
      ]
     },
     "metadata": {},
     "output_type": "display_data"
    }
   ],
   "source": [
    "cities_new1 = ['Moscow', 'Perm', 'Saratov', 'Tver']\n",
    "cities_new2 = cities_new1 # копирование ссылки на объект\n",
    "cities_new2 [-1] = 'Paris'\n",
    "display('cities_new1:' + str (cities_new1))\n",
    "display('cities_new2:' + str (cities_new2))\n",
    "\n",
    "\n",
    "cities_new3 = list (cities_new2) # создание нового объекта на основе существующего\n",
    "cities_new3 [0] = 'Minsk'\n",
    "display('cities_new2:' + str (cities_new2))\n",
    "display('cities_new3:' + str (cities_new3))\n",
    "\n",
    "def do_something (cities):\n",
    "    cities.append ('Нью-Васюки')\n",
    "    return [x.upper() for x in cities]\n",
    "\n",
    "cities_new4 = do_something (cities_new3)\n",
    "display('cities_new3:' + str (cities_new3))\n",
    "display('cities_new4:' + str (cities_new4))\n"
   ]
  },
  {
   "cell_type": "code",
   "execution_count": null,
   "id": "6b59bb00-063f-4a46-b455-82e58a43a37f",
   "metadata": {},
   "outputs": [],
   "source": []
  },
  {
   "cell_type": "code",
   "execution_count": null,
   "id": "6cc122fd-c494-44ee-bdfe-2bf163e6ca51",
   "metadata": {},
   "outputs": [],
   "source": []
  }
 ],
 "metadata": {
  "kernelspec": {
   "display_name": "Python 3 (ipykernel)",
   "language": "python",
   "name": "python3"
  },
  "language_info": {
   "codemirror_mode": {
    "name": "ipython",
    "version": 3
   },
   "file_extension": ".py",
   "mimetype": "text/x-python",
   "name": "python",
   "nbconvert_exporter": "python",
   "pygments_lexer": "ipython3",
   "version": "3.9.7"
  }
 },
 "nbformat": 4,
 "nbformat_minor": 5
}
